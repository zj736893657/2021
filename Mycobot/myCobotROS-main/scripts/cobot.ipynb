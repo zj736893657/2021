{
 "metadata": {
  "language_info": {
   "codemirror_mode": {
    "name": "ipython",
    "version": 3
   },
   "file_extension": ".py",
   "mimetype": "text/x-python",
   "name": "python",
   "nbconvert_exporter": "python",
   "pygments_lexer": "ipython3",
   "version": "3.8.3-final"
  },
  "orig_nbformat": 2,
  "kernelspec": {
   "name": "python3",
   "display_name": "Python 3",
   "language": "python"
  }
 },
 "nbformat": 4,
 "nbformat_minor": 2,
 "cells": [
  {
   "cell_type": "code",
   "execution_count": 154,
   "metadata": {},
   "outputs": [
    {
     "output_type": "stream",
     "name": "stdout",
     "text": [
      "Start check api\n",
      "\n",
      "::ser_color()\n",
      "==>set color red\n",
      "\n",
      "::get_angles()\n",
      "==> degrees: [165.21019108280254, 32.15923566878981, 112.70063694267516, -98.48407643312102, 0.17197452229299362, 112.01273885350318]\n",
      "\n",
      "::get_angles_of_radian()\n",
      "==> radians: [2.882, 0.561, 1.966, -1.718, 0.003, 1.954]\n",
      "\n"
     ]
    }
   ],
   "source": [
    "import time, random\n",
    "from pythonAPI.mycobot3 import MyCobot\n",
    "from pythonAPI.common import Angle, Coord\n",
    "import redis\n",
    "import msgpack\n",
    "r=redis.Redis(\"192.168.1.95\",port=6379,db=0)\n",
    "\n",
    "r = redis.StrictRedis(\"192.168.1.95\",6379,db=1)#the Server, default port is 6379\n",
    "\n",
    "def read(name):\n",
    "    return msgpack.unpackb(r.get(name)) #Unpack the data\n",
    "\n",
    "# def write( key, value):\n",
    "#     return r.set(key.encode('utf-8'), msgpack.dumps(value))\n",
    "\n",
    "if __name__ == '__main__':\n",
    "    mycobot = MyCobot()\n",
    "\n",
    "    print('Start check api\\n')\n",
    "    # print()\n",
    "\n",
    "    color_name = ['red', 'green', 'blue']\n",
    "    color_code = ['ff0000', '00ff00', '0000ff']\n",
    "    print('::ser_color()')\n",
    "    i = random.randint(0, len(color_code) - 1)\n",
    "    mycobot.set_color(color_code[i])\n",
    "    print('==>set color {}\\n'.format(color_name[i]))\n",
    "    time.sleep(0.5)\n",
    "\n",
    "    print('::get_angles()')\n",
    "    print('==> degrees: {}\\n'.format(mycobot.get_angles()))\n",
    "    time.sleep(0.5)\n",
    "\n",
    "    print('::get_angles_of_radian()')\n",
    "    print('==> radians: {}\\n'.format(mycobot.get_angles_of_radian()))\n",
    "    time.sleep(0.5)\n",
    "    \n",
    "    # print('::send_angles()')\n",
    "    # mycobot.send_angles([0,0,0,0,0,0], 80)\n",
    "    # print('==> set angles [0,0,0,0,0,0], speed 80\\n')\n",
    "    # time.sleep(3)"
   ]
  },
  {
   "cell_type": "code",
   "execution_count": 156,
   "metadata": {},
   "outputs": [],
   "source": [
    "mycobot.send_angles([0,20,0,0,0,0], 80)\n",
    "# print(mycobot.send_coords[])"
   ]
  },
  {
   "cell_type": "code",
   "execution_count": 153,
   "metadata": {},
   "outputs": [
    {
     "output_type": "stream",
     "name": "stdout",
     "text": [
      "::send_coords()\n"
     ]
    }
   ],
   "source": [
    "print('::send_coords()')\n",
    "mycobot.send_coords([90, 100, 300, 10, 0, 0], 70, 0)\n",
    "# print('==> send coords [160,160,160,0,0,0], speed 70, mode 0\\n')\n",
    "time.sleep(1.5)"
   ]
  },
  {
   "cell_type": "code",
   "execution_count": null,
   "metadata": {},
   "outputs": [],
   "source": []
  }
 ]
}